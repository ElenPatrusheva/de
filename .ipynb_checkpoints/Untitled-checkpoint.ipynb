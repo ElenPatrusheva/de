{
 "cells": [
  {
   "cell_type": "code",
   "execution_count": 1,
   "metadata": {},
   "outputs": [],
   "source": [
    "import matplotlib.pyplot as plot\n",
    "from IPython.display import display, Math, Latex\n",
    "import plotly.plotly as py\n",
    "import numpy as np\n",
    "import copy"
   ]
  },
  {
   "cell_type": "code",
   "execution_count": 2,
   "metadata": {},
   "outputs": [],
   "source": [
    "def f(x, y):\n",
    "    return x**3*y**4-y/x"
   ]
  },
  {
   "cell_type": "code",
   "execution_count": 3,
   "metadata": {},
   "outputs": [],
   "source": [
    "class Numerical_solution:\n",
    "\n",
    "    def num_method(self):\n",
    "        pass\n",
    "    \n",
    "    def calculate(self, y_original, n, h):\n",
    "        for i in range(1, n + 1):\n",
    "            if (y_original[i] != None):\n",
    "                if (y_original[i-1] == None):\n",
    "                    self.y = np.append(self.y, y_original[i])\n",
    "                else:\n",
    "                    self.y = np.append(self.y, self.num_method(self.x[i-1], self.y[-1], h))  \n",
    "            else:\n",
    "                self.y = np.append(self.y, None)\n",
    "    \n",
    "    def __init__(self, exact, n, h):\n",
    "        self.x = exact.x\n",
    "        self.y = np.array([exact.y[0]])\n",
    "        self.calculate(exact.y, n, h)\n",
    "    def draw(self):\n",
    "        plot.plot(self.x, self.y)\n",
    "        plot.show()"
   ]
  },
  {
   "cell_type": "code",
   "execution_count": 4,
   "metadata": {},
   "outputs": [],
   "source": [
    "class Euler(Numerical_solution):\n",
    "    def num_method(self, x, y, h):\n",
    "        return y+h*f(x,y)"
   ]
  },
  {
   "cell_type": "code",
   "execution_count": 5,
   "metadata": {},
   "outputs": [],
   "source": [
    "class Euler_improved(Numerical_solution):\n",
    "    def num_method(self, x, y, h):\n",
    "        return y+h/2*(f(x,y)+f(x+h, y+h*f(x,y)))"
   ]
  },
  {
   "cell_type": "code",
   "execution_count": 6,
   "metadata": {},
   "outputs": [],
   "source": [
    "class Runge(Numerical_solution):\n",
    "    \n",
    "    def num_method(self, x, y, h):\n",
    "        k1 = f(x, y)\n",
    "        k2 = f(x + h/2, y + h/2 * k1)\n",
    "        k3 = f(x + h/2, y + h/2 * k2)\n",
    "        k4 = f(x + h, y + h * k3)\n",
    "        return y + h/6 * (k1 + 2*k2 +2*k3 + k4)"
   ]
  },
  {
   "cell_type": "code",
   "execution_count": 7,
   "metadata": {},
   "outputs": [],
   "source": [
    "class Original(Numerical_solution):\n",
    "    \n",
    "    def f_method(self, x, y, h):\n",
    "        return (self.c * x**3 - 3 * x**4) ** (-1 / 3)\n",
    "    \n",
    "    def __init__(self, x0, y0, n, xf):\n",
    "        super(Original, self).__init__(x0, y0, n, xf)\n",
    "        self.c = (y0*x0)**(-3) + 3*x0\n",
    "\n",
    "        \n",
    "        "
   ]
  },
  {
   "cell_type": "code",
   "execution_count": 8,
   "metadata": {},
   "outputs": [],
   "source": [
    "class Exact_solution:\n",
    "    \n",
    "    def f_original(self, x, y, h):\n",
    "        return (self.c * x**3 - 3 * x**4) ** (-1 / 3)\n",
    "    \n",
    "    def __init__(self, x0, y0, h, n):\n",
    "        \n",
    "        if (x0 == 0):\n",
    "            print (\"y isn't defined in x0 = 0\\n\")\n",
    "            return\n",
    "        \n",
    "        self.c = (y0*x0)**(-3) + 3 * x0\n",
    "        \n",
    "        self.discontinuity = [0]\n",
    "        if (0 != (y0*x0)**(-3) / 3 + x0):\n",
    "            self.discontinuity.append((y0*x0)**(-3) / 3 + x0)\n",
    "        self.discontinuity.sort()\n",
    "        \n",
    "        self.y = np.array([y0])\n",
    "        self.x = np.array([x0])\n",
    "        for i in range(1, n + 1): \n",
    "            self.y = np.append(self.y, self.f_original(self.x[-1], self.y[-1], h))  \n",
    "            self.x = np.append(self.x, self.x[-1] + h)\n",
    "        \n",
    "        #shity shit\n",
    "        for i in range(1, n+1):\n",
    "            if (abs(self.x[i] - self.discontinuity[0]) <= h/2 or abs(self.x[i] - self.discontinuity[0]) <= h/2):\n",
    "                self.y[i] = None\n",
    "                \n",
    "\n",
    "        \n",
    "    def get_x(self):\n",
    "        return self.x\n",
    "    \n",
    "    def print(self):\n",
    "        str1 = \"The \\space most \\space general \\space solution \\space is: \\\\frac{1}{\\sqrt[3]{Cx^3-3x^4}}, C \\in \\\\ \\mathbb {R}.\"\\\n",
    "             \"\\space Points \\space of \\space discontinuity \\space are \\space \\\\frac{1}{3x_0y_0} + x_0 \\space \"\\\n",
    "             \"if \\space it's \\space not \\space equal \\space 0 \\space and \\space 0\"\n",
    "        \n",
    "        if (self.discontinuity[1] != self.discontinuity[0]):\n",
    "            str2 = \"The \\space most \\space general \\space solution \\space is: \\\\frac{1}{\\sqrt[3]{\" + str(self.c) + \\\n",
    "            \"x^3-3x^4}}\\space Points \\space of \\space discontinuity \\space are \\space\" + str(round(self.discontinuity[0], 2)) + \\\n",
    "            \"\\space and \\space\" + str(round(self.discontinuity[1], 2))\n",
    "        else:\n",
    "            str2 = \"The \\space most \\space general \\space solution \\space is: \\\\frac{1}{\\sqrt[3]{\" + str(c1) + \"x^3-3x^4}}\"\\\n",
    "                   \"\\space Points \\space of \\space discontinuity \\space is \\space 0\"\n",
    "            \n",
    "        display(Math(str1))\n",
    "        display(Math(str2))\n",
    "        \n",
    "    def draw(self):\n",
    "        plot.plot(self.x, self.y)\n",
    "        plot.show()"
   ]
  },
  {
   "cell_type": "code",
   "execution_count": 9,
   "metadata": {},
   "outputs": [],
   "source": [
    "class Error_of_solution:\n",
    "    def __init_(solution, original):\n",
    "        self.x = solution.x\n",
    "        for i in range(len(self.x)):\n",
    "            self.e[i] = solution.y[i]-original.y[i]"
   ]
  },
  {
   "cell_type": "code",
   "execution_count": 10,
   "metadata": {},
   "outputs": [],
   "source": [
    "class IVP:\n",
    "    \n",
    "    def f_original(self, x, y, h):\n",
    "        return (self.c * x**3 - 3 * x**4) ** (-1 / 3)\n",
    "    \n",
    "    def find_exact(self):\n",
    "        self.exact = Exact_solution(self.x0, self.y0, self.h, self.n)\n",
    "        self.x = self.exact.get_x()\n",
    "    \n",
    "    def get_exact(self):\n",
    "        return self.exact\n",
    "    \n",
    "    def get_euler(self):\n",
    "        if (self.euler == None):\n",
    "            self.euler = Euler(self.exact, self.n, self.h)\n",
    "        return self.euler\n",
    "    \n",
    "    def get_improved_euler(self):\n",
    "        if (self.improved_euler == None):\n",
    "            self.improved_euler = Euler_improved(self.exact, self.n, self.h)\n",
    "        return self.improved_euler\n",
    "\n",
    "    def get_runge(self):\n",
    "        if (self.runge == None):\n",
    "            self.runge = Runge(self.exact, self.n, self.h)\n",
    "        return self.runge\n",
    "            \n",
    "    def __init__(self, x0, y0, xf, n):        \n",
    "        if (x0 == 0):\n",
    "            print (\"y isn't defined in x0 = 0\")\n",
    "            return\n",
    "        if (n < 0):\n",
    "            print (\"n should be positive\\n\")        \n",
    "            return\n",
    "        if (int(n) != n):\n",
    "            print(\"n should be an integer number\\n\")\n",
    "            return\n",
    "\n",
    "        self.x0 = x0\n",
    "        self.y0 = y0\n",
    "        self.n = n\n",
    "        self.h = (xf - x0) / n\n",
    "        self.find_exact()\n",
    "        self.euler = None\n",
    "        self.improved_euler = None\n",
    "        self.runge = None\n",
    "    \n",
    "    \n",
    "        \n",
    "    "
   ]
  },
  {
   "cell_type": "markdown",
   "metadata": {},
   "source": [
    "**Все оч плохо, если попадает асимптота!!**"
   ]
  },
  {
   "cell_type": "code",
   "execution_count": 11,
   "metadata": {},
   "outputs": [],
   "source": [
    "n = 300\n",
    "x0 = 1\n",
    "y0 = 0.5\n",
    "xf = 3.658"
   ]
  },
  {
   "cell_type": "code",
   "execution_count": 12,
   "metadata": {},
   "outputs": [],
   "source": [
    "ivp = IVP(x0, y0, xf, n)"
   ]
  },
  {
   "cell_type": "markdown",
   "metadata": {},
   "source": [
    "**Euler**"
   ]
  },
  {
   "cell_type": "code",
   "execution_count": 13,
   "metadata": {},
   "outputs": [
    {
     "data": {
      "image/png": "[encoded data removed]",
      "text/plain": [
       "<Figure size 432x288 with 1 Axes>"
      ]
     },
     "metadata": {
      "needs_background": "light"
     },
     "output_type": "display_data"
    }
   ],
   "source": [
    "ivp.get_euler().draw()"
   ]
  },
  {
   "cell_type": "markdown",
   "metadata": {},
   "source": [
    "**Improved**"
   ]
  },
  {
   "cell_type": "code",
   "execution_count": 14,
   "metadata": {},
   "outputs": [
    {
     "data": {
      "image/png": "[encoded data removed]",
      "text/plain": [
       "<Figure size 432x288 with 1 Axes>"
      ]
     },
     "metadata": {
      "needs_background": "light"
     },
     "output_type": "display_data"
    }
   ],
   "source": [
    "ivp.get_improved_euler().draw()"
   ]
  },
  {
   "cell_type": "markdown",
   "metadata": {},
   "source": [
    "**Runge**"
   ]
  },
  {
   "cell_type": "code",
   "execution_count": 15,
   "metadata": {},
   "outputs": [
    {
     "data": {
      "image/png": "[encoded data removed]",
      "text/plain": [
       "<Figure size 432x288 with 1 Axes>"
      ]
     },
     "metadata": {
      "needs_background": "light"
     },
     "output_type": "display_data"
    }
   ],
   "source": [
    "ivp.get_runge().draw()"
   ]
  },
  {
   "cell_type": "code",
   "execution_count": 16,
   "metadata": {},
   "outputs": [
    {
     "data": {
      "image/png": "[encoded data removed]",
      "text/plain": [
       "<Figure size 432x288 with 1 Axes>"
      ]
     },
     "metadata": {
      "needs_background": "light"
     },
     "output_type": "display_data"
    }
   ],
   "source": [
    "ivp.get_exact().draw()"
   ]
  },
  {
   "cell_type": "code",
   "execution_count": 17,
   "metadata": {},
   "outputs": [
    {
     "ename": "NameError",
     "evalue": "name 'a1' is not defined",
     "output_type": "error",
     "traceback": [
      "\u001b[1;31m---------------------------------------------------------------------------\u001b[0m",
      "\u001b[1;31mNameError\u001b[0m                                 Traceback (most recent call last)",
      "\u001b[1;32m<ipython-input-17-58bf173d53dd>\u001b[0m in \u001b[0;36m<module>\u001b[1;34m()\u001b[0m\n\u001b[1;32m----> 1\u001b[1;33m \u001b[0mplot\u001b[0m\u001b[1;33m.\u001b[0m\u001b[0mplot\u001b[0m\u001b[1;33m(\u001b[0m\u001b[0ma1\u001b[0m\u001b[1;33m.\u001b[0m\u001b[0mx\u001b[0m\u001b[1;33m,\u001b[0m \u001b[0ma1\u001b[0m\u001b[1;33m.\u001b[0m\u001b[0my\u001b[0m\u001b[1;33m,\u001b[0m \u001b[0ma2\u001b[0m\u001b[1;33m.\u001b[0m\u001b[0mx\u001b[0m\u001b[1;33m,\u001b[0m \u001b[0ma2\u001b[0m\u001b[1;33m.\u001b[0m\u001b[0my\u001b[0m\u001b[1;33m,\u001b[0m \u001b[0ma3\u001b[0m\u001b[1;33m.\u001b[0m\u001b[0mx\u001b[0m\u001b[1;33m,\u001b[0m \u001b[0ma3\u001b[0m\u001b[1;33m.\u001b[0m\u001b[0my\u001b[0m\u001b[1;33m,\u001b[0m \u001b[0ma4\u001b[0m\u001b[1;33m.\u001b[0m\u001b[0mx\u001b[0m\u001b[1;33m,\u001b[0m \u001b[0ma4\u001b[0m\u001b[1;33m.\u001b[0m\u001b[0my\u001b[0m\u001b[1;33m,\u001b[0m\u001b[1;33m)\u001b[0m\u001b[1;33m\u001b[0m\u001b[0m\n\u001b[0m",
      "\u001b[1;31mNameError\u001b[0m: name 'a1' is not defined"
     ]
    }
   ],
   "source": []
  },
  {
   "cell_type": "code",
   "execution_count": null,
   "metadata": {},
   "outputs": [],
   "source": [
    "display(Math(\"The \\space most \\space general \\space solution \\space is: \\\\frac{1}{\\sqrt[3]{Cx^3-3x^4}}, C \\in \\\\ \\mathbb {R}.\"\\\n",
    "             \"\\space Points \\space of \\space discontinuity \\space are \\space \\\\frac{1}{3x_0y_0} + x_0 \\space \"\\\n",
    "             \"if \\space it's \\space not \\space equal \\space 0 \\space and \\space 0\"))"
   ]
  },
  {
   "cell_type": "code",
   "execution_count": null,
   "metadata": {},
   "outputs": [],
   "source": [
    "a5 = Exact_solution(x0, y0)\n",
    "a5.print()"
   ]
  },
  {
   "cell_type": "code",
   "execution_count": null,
   "metadata": {},
   "outputs": [],
   "source": [
    "a = np.array([1])\n",
    "np.append(a,2)"
   ]
  },
  {
   "cell_type": "code",
   "execution_count": null,
   "metadata": {},
   "outputs": [],
   "source": []
  }
 ],
 "metadata": {
  "kernelspec": {
   "display_name": "Python 3",
   "language": "python",
   "name": "python3"
  },
  "language_info": {
   "codemirror_mode": {
    "name": "ipython",
    "version": 3
   },
   "file_extension": ".py",
   "mimetype": "text/x-python",
   "name": "python",
   "nbconvert_exporter": "python",
   "pygments_lexer": "ipython3",
   "version": "3.7.0"
  }
 },
 "nbformat": 4,
 "nbformat_minor": 2
}
