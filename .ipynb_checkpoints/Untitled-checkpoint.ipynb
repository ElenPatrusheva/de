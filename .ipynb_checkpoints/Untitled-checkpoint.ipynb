{
 "cells": [
  {
   "cell_type": "code",
   "execution_count": 1,
   "metadata": {},
   "outputs": [],
   "source": [
    "import matplotlib.pyplot as plot\n",
    "from IPython.display import display, Math, Latex\n",
    "import numpy as np"
   ]
  },
  {
   "cell_type": "code",
   "execution_count": 2,
   "metadata": {},
   "outputs": [],
   "source": [
    "def f(x, y):\n",
    "    return x**3*y**4-y/x"
   ]
  },
  {
   "cell_type": "code",
   "execution_count": 3,
   "metadata": {},
   "outputs": [],
   "source": [
    "class Numerical_solution:\n",
    "\n",
    "    def num_method(self):\n",
    "        pass\n",
    "    \n",
    "    def calculate(self, y_original, n, h):\n",
    "        for i in range(1, n + 1):\n",
    "\n",
    "            if (y_original[i] != None):\n",
    "                if (y_original[i-1] == None):\n",
    "                    self.y = np.append(self.y, y_original[i])\n",
    "                    \n",
    "                else:\n",
    "                    self.y = np.append(self.y, self.num_method(self.x[i-1], self.y[-1], h))  \n",
    "            else:\n",
    "                self.y = np.append(self.y, None)\n",
    "\n",
    "    \n",
    "    def __init__(self, exact, n, h):\n",
    "        self.x = exact.x\n",
    "        self.y = np.array([exact.y[0]])\n",
    "        self.calculate(exact.y, n, h)\n",
    "        \n",
    "    def draw(self):\n",
    "        plot.plot(self.x, self.y, label=self.__class__.__name__)\n",
    "        plot.legend(loc='upper left')"
   ]
  },
  {
   "cell_type": "code",
   "execution_count": 4,
   "metadata": {},
   "outputs": [],
   "source": [
    "class Euler(Numerical_solution):\n",
    "    def num_method(self, x, y, h):\n",
    "        return y+h*f(x,y)"
   ]
  },
  {
   "cell_type": "code",
   "execution_count": 5,
   "metadata": {},
   "outputs": [],
   "source": [
    "class Euler_improved(Numerical_solution):\n",
    "    def num_method(self, x, y, h):\n",
    "        return y+h/2*(f(x,y)+f(x+h, y+h*f(x,y)))"
   ]
  },
  {
   "cell_type": "code",
   "execution_count": 6,
   "metadata": {},
   "outputs": [],
   "source": [
    "class Runge(Numerical_solution):\n",
    "    \n",
    "    def num_method(self, x, y, h):\n",
    "        k1 = f(x, y)\n",
    "        k2 = f(x + h/2, y + h/2 * k1)\n",
    "        k3 = f(x + h/2, y + h/2 * k2)\n",
    "        k4 = f(x + h, y + h * k3)\n",
    "        return y + h/6 * (k1 + 2*k2 +2*k3 + k4)"
   ]
  },
  {
   "cell_type": "code",
   "execution_count": 20,
   "metadata": {},
   "outputs": [],
   "source": [
    "class Exact_solution:\n",
    "    \n",
    "    def f_original(self, x):\n",
    "        if (self.constant):\n",
    "            return 0\n",
    "\n",
    "        result = 1\n",
    "        root_inner = self.c - 3 * x\n",
    "        \n",
    "        if root_inner < 0:\n",
    "            result *= -1\n",
    "            root_inner *= -1\n",
    "            \n",
    "        return result / ( x * (root_inner**(1 / 3)) )\n",
    "    \n",
    "    \n",
    "    def __init__(self, x0, y0, h, n):\n",
    "        self.constant = False\n",
    "        self.discontinuity = [0]\n",
    "        if (y0 == 0):\n",
    "            self.constant = True\n",
    "        else:\n",
    "            self.c = (y0*x0)**(-3) + 3 * x0\n",
    "            if (0 != (y0*x0)**(-3) / 3 + x0):\n",
    "                self.discontinuity.append((y0*x0)**(-3) / 3 + x0)\n",
    "        \n",
    "        self.discontinuity.sort()        \n",
    "        self.y = np.array([y0])\n",
    "        self.x = np.array([x0])\n",
    "        \n",
    "        for i in range(1, n + 1): \n",
    "            \n",
    "            self.x = np.append(self.x, self.x[-1] + h)\n",
    "            near_discont = False\n",
    "            for i in self.discontinuity:\n",
    "                if (abs(self.x[-1] - i) <= 2*h):\n",
    "                    near_discont = True\n",
    "            if (near_discont):\n",
    "                self.y = np.append(self.y, None)\n",
    "            else:\n",
    "                self.y = np.append(self.y, self.f_original(self.x[-1]))\n",
    "                \n",
    "        \n",
    "    def get_x(self):\n",
    "        return self.x\n",
    "    \n",
    "    def print_solution(self):\n",
    "        str1 = \"The \\space most \\space general \\space solution \\space is: \\space y(x)=0 \\space and \\space y(x)=\\\\frac{1}{\\sqrt[3]{Cx^3-3x^4}}, C \\in \\\\ \\mathbb {R}.\"\\\n",
    "             \"\\space Points \\space of \\space discontinuity \\space are \\space \\\\frac{1}{3x_0y_0} + x_0 \\space \"\\\n",
    "             \"if \\space it's \\space not \\space equal \\space 0 \\space and \\space 0\"\n",
    "        if (self.constant):\n",
    "            str2 = \"The \\space most \\space general \\space solution \\space is: \\space y(x)=0. \\space Point \\space of \\space discontinuity \\space is \\space 0. \"\n",
    "            display(Math(str1))\n",
    "            display(Math(str2))\n",
    "            return \n",
    "        \n",
    "        if (self.discontinuity[1] != self.discontinuity[0]):\n",
    "            str2 = \"The \\space most \\space general \\space solution \\space is: \\space y(x)=\\\\frac{1}{\\sqrt[3]{\" + str(round(self.c, 2)) + \\\n",
    "            \"x^3-3x^4}}\\space Points \\space of \\space discontinuity \\space are \\space\" + str(round(self.discontinuity[0], 2)) + \\\n",
    "            \"\\space and \\space\" + str(round(self.discontinuity[1], 2))\n",
    "        else:\n",
    "            str2 = \"The \\space most \\space general \\space solution \\space is: \\space y(x)=\\\\frac{1}{\\sqrt[3]{\" + str(c1) + \"\\cdot x^3-3x^4}}\"\\\n",
    "                   \"\\space Points \\space of \\space discontinuity \\space is \\space 0\"\n",
    "            \n",
    "        display(Math(str1))\n",
    "        display(Math(str2))\n",
    "        \n",
    "    def draw(self):\n",
    "        plot.plot(self.x, self.y, label='Exact')\n",
    "        plot.legend(loc='upper left')"
   ]
  },
  {
   "cell_type": "code",
   "execution_count": 8,
   "metadata": {},
   "outputs": [],
   "source": [
    "class Error_of_solution:\n",
    "    \n",
    "    def __init_(solution, original):\n",
    "        self.x = solution.x\n",
    "        self.e = [0]\n",
    "        for i in range(1, len(self.x)):\n",
    "            if (solution.y[i] == None):\n",
    "                self.e.append(None)\n",
    "            else:\n",
    "                self.e[i] = solution.y[i]-original.y[i]\n",
    "        self.average_error = None\n",
    "        self.max_error = None\n",
    "            \n",
    "    def draw(self):\n",
    "        plot.plot(self.x, self.e, label='Error')\n",
    "        plot.legend(loc='upper left')\n",
    "        \n",
    "    def find_max(self):\n",
    "        self.max_error = 0\n",
    "        for i in self.e:\n",
    "            if (abs(i) > abs(self.max_error)):\n",
    "                self.max_error = abs(i)\n",
    "                \n",
    "    def get_max_error(self):\n",
    "        if (self.max_error == None):\n",
    "            self.find_max()\n",
    "        return self.max_error\n",
    "\n",
    "    def find_average(self):\n",
    "        self.average_error=np.mean(np.abs(np.array(self.e)))"
   ]
  },
  {
   "cell_type": "code",
   "execution_count": 26,
   "metadata": {},
   "outputs": [],
   "source": [
    "class IVP:\n",
    "    \n",
    "    def find_exact(self):\n",
    "        self.exact = Exact_solution(self.x0, self.y0, self.h, self.n)\n",
    "        self.x = self.exact.get_x()\n",
    "    \n",
    "    def get_exact(self):\n",
    "        return self.exact\n",
    "    \n",
    "    def get_euler(self):\n",
    "        if (self.euler == None):\n",
    "            self.euler = Euler(self.exact, self.n, self.h)\n",
    "        return self.euler\n",
    "    \n",
    "    def get_improved_euler(self):\n",
    "        if (self.improved_euler == None):\n",
    "            self.improved_euler = Euler_improved(self.exact, self.n, self.h)\n",
    "        return self.improved_euler\n",
    "\n",
    "    def get_runge(self):\n",
    "        if (self.runge == None):\n",
    "            self.runge = Runge(self.exact, self.n, self.h)\n",
    "        return self.runge\n",
    "            \n",
    "    def __init__(self, x0, y0, xf, n):      \n",
    "        \n",
    "        if (x0 == 0):\n",
    "            raise Exception(\"Y isn't defined in x0 = 0\")\n",
    "        if (n < 0):\n",
    "            raise Exception(\"N should be positive\\n\")        \n",
    "        if (int(n) != n):\n",
    "            raise Exception(\"N should be an integer number\\n\")\n",
    "\n",
    "        self.x0 = x0\n",
    "        self.y0 = y0\n",
    "        self.n = n\n",
    "        self.h = (xf - x0) / n\n",
    "        self.find_exact()\n",
    "        self.euler = None\n",
    "        self.improved_euler = None\n",
    "        self.runge = None"
   ]
  },
  {
   "cell_type": "markdown",
   "metadata": {},
   "source": [
    "**Все оч плохо, если попадает асимптота!!**"
   ]
  },
  {
   "cell_type": "code",
   "execution_count": 10,
   "metadata": {},
   "outputs": [],
   "source": [
    "n = 300\n",
    "x0 = 1\n",
    "y0 = 0.5\n",
    "xf = 5"
   ]
  },
  {
   "cell_type": "code",
   "execution_count": 11,
   "metadata": {
    "scrolled": true
   },
   "outputs": [],
   "source": [
    "ivp = IVP(x0, y0, xf, n)"
   ]
  },
  {
   "cell_type": "markdown",
   "metadata": {},
   "source": [
    "**Exact solution**"
   ]
  },
  {
   "cell_type": "code",
   "execution_count": 12,
   "metadata": {},
   "outputs": [
    {
     "data": {
      "text/latex": [
       "$$The \\space most \\space general \\space solution \\space is: \\space y(x)=0 \\space and \\space y(x)=\\frac{1}{\\sqrt[3]{Cx^3-3x^4}}, C \\in \\ \\mathbb {R}.\\space Points \\space of \\space discontinuity \\space are \\space \\frac{1}{3x_0y_0} + x_0 \\space if \\space it's \\space not \\space equal \\space 0 \\space and \\space 0$$"
      ],
      "text/plain": [
       "<IPython.core.display.Math object>"
      ]
     },
     "metadata": {},
     "output_type": "display_data"
    },
    {
     "data": {
      "text/latex": [
       "$$The \\space most \\space general \\space solution \\space is: \\frac{1}{\\sqrt[3]{11.0x^3-3x^4}}\\space Points \\space of \\space discontinuity \\space are \\space0\\space and \\space3.67$$"
      ],
      "text/plain": [
       "<IPython.core.display.Math object>"
      ]
     },
     "metadata": {},
     "output_type": "display_data"
    }
   ],
   "source": [
    "ivp.get_exact().print_solution()"
   ]
  },
  {
   "cell_type": "code",
   "execution_count": 13,
   "metadata": {
    "scrolled": false
   },
   "outputs": [
    {
     "data": {
      "image/png": "[encoded data removed]",
      "text/plain": [
       "<Figure size 432x288 with 1 Axes>"
      ]
     },
     "metadata": {
      "needs_background": "light"
     },
     "output_type": "display_data"
    }
   ],
   "source": [
    "ivp.get_exact().draw()"
   ]
  },
  {
   "cell_type": "markdown",
   "metadata": {},
   "source": [
    "**Euler**"
   ]
  },
  {
   "cell_type": "code",
   "execution_count": 14,
   "metadata": {},
   "outputs": [
    {
     "data": {
      "image/png": "[encoded data removed]",
      "text/plain": [
       "<Figure size 432x288 with 1 Axes>"
      ]
     },
     "metadata": {
      "needs_background": "light"
     },
     "output_type": "display_data"
    }
   ],
   "source": [
    "ivp.get_euler().draw()"
   ]
  },
  {
   "cell_type": "markdown",
   "metadata": {},
   "source": [
    "**Improved**"
   ]
  },
  {
   "cell_type": "code",
   "execution_count": 15,
   "metadata": {},
   "outputs": [
    {
     "data": {
      "image/png": "[encoded data removed]",
      "text/plain": [
       "<Figure size 432x288 with 1 Axes>"
      ]
     },
     "metadata": {
      "needs_background": "light"
     },
     "output_type": "display_data"
    }
   ],
   "source": [
    "ivp.get_exact().draw()\n",
    "ivp.get_euler().draw()\n",
    "ivp.get_improved_euler().draw()\n",
    "ivp.get_runge().draw()"
   ]
  },
  {
   "cell_type": "markdown",
   "metadata": {},
   "source": [
    "**Runge**"
   ]
  },
  {
   "cell_type": "code",
   "execution_count": 16,
   "metadata": {},
   "outputs": [
    {
     "data": {
      "image/png": "[encoded data removed]",
      "text/plain": [
       "<Figure size 432x288 with 1 Axes>"
      ]
     },
     "metadata": {
      "needs_background": "light"
     },
     "output_type": "display_data"
    }
   ],
   "source": [
    "ivp.get_runge().draw()"
   ]
  },
  {
   "cell_type": "code",
   "execution_count": 17,
   "metadata": {},
   "outputs": [],
   "source": [
    "import ipywidgets as ipw"
   ]
  },
  {
   "cell_type": "code",
   "execution_count": 24,
   "metadata": {},
   "outputs": [],
   "source": [
    "def function(x0, y0, xf, n):\n",
    "    ivp = IVP(x0, y0, xf, n)\n",
    "    plot.rcParams['figure.figsize'] = [30, 30]\n",
    "    plot.rcParams.update({'font.size': 22})\n",
    "    ivp.get_exact().draw()\n",
    "    ivp.get_euler().draw()\n",
    "    ivp.get_improved_euler().draw()\n",
    "    ivp.get_runge().draw()\n",
    "\n",
    "    plot.show()\n",
    "\n",
    "def make_gui():\n",
    "    x0 = ipw.IntSlider(value=1, min=-10, max=10, step=1, continuous_update=False)\n",
    "    y0 = ipw.IntSlider(value=1, min=-10, max=10, step=1, continuous_update=False)\n",
    "    xf = ipw.IntSlider(value=5, min=1, max=10, step=1, continuous_update=False)\n",
    "    n = ipw.IntSlider(value=10, min=5, max=1000, step=10, continuous_update=False)\n",
    "    try:\n",
    "        ipw.interact(function, x0=x0, y0=y0, xf=xf, n=n)\n",
    "    except Exception as e:\n",
    "        print (e)\n",
    "    "
   ]
  },
  {
   "cell_type": "code",
   "execution_count": 27,
   "metadata": {
    "scrolled": false
   },
   "outputs": [
    {
     "data": {
      "application/vnd.jupyter.widget-view+json": {
       "model_id": "b1cd6ca955dc476ba016b943f1a4a016",
       "version_major": 2,
       "version_minor": 0
      },
      "text/plain": [
       "interactive(children=(IntSlider(value=1, continuous_update=False, description='x0', max=10, min=-10), IntSlide…"
      ]
     },
     "metadata": {},
     "output_type": "display_data"
    }
   ],
   "source": [
    "make_gui()"
   ]
  },
  {
   "cell_type": "code",
   "execution_count": null,
   "metadata": {},
   "outputs": [],
   "source": []
  },
  {
   "cell_type": "code",
   "execution_count": null,
   "metadata": {},
   "outputs": [],
   "source": []
  },
  {
   "cell_type": "code",
   "execution_count": null,
   "metadata": {},
   "outputs": [],
   "source": []
  }
 ],
 "metadata": {
  "kernelspec": {
   "display_name": "Python 3",
   "language": "python",
   "name": "python3"
  },
  "language_info": {
   "codemirror_mode": {
    "name": "ipython",
    "version": 3
   },
   "file_extension": ".py",
   "mimetype": "text/x-python",
   "name": "python",
   "nbconvert_exporter": "python",
   "pygments_lexer": "ipython3",
   "version": "3.7.0"
  }
 },
 "nbformat": 4,
 "nbformat_minor": 2
}
