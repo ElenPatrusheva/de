{
 "cells": [
  {
   "cell_type": "code",
   "execution_count": 1,
   "metadata": {},
   "outputs": [],
   "source": [
    "import matplotlib.pyplot as plot\n",
    "from IPython.display import display, Math, Latex\n",
    "import numpy as np"
   ]
  },
  {
   "cell_type": "code",
   "execution_count": 2,
   "metadata": {},
   "outputs": [],
   "source": [
    "class Exact_solution:\n",
    "    \n",
    "    def f_original(self, x):\n",
    "        if (self.constant):\n",
    "            return 0\n",
    "\n",
    "        result = 1\n",
    "        root_inner = self.c - 3 * x\n",
    "        \n",
    "        if root_inner < 0:\n",
    "            result *= -1\n",
    "            root_inner *= -1\n",
    "            \n",
    "        return result / ( x * (root_inner**(1 / 3)) )\n",
    "    \n",
    "    \n",
    "    def __init__(self, x0, y0, h, n):\n",
    "        self.constant = False\n",
    "        self.discontinuity = [0]\n",
    "        if (y0 == 0):\n",
    "            self.constant = True\n",
    "        else:\n",
    "            self.c = (y0*x0)**(-3) + 3 * x0\n",
    "            if (0 != (y0*x0)**(-3) / 3 + x0):\n",
    "                self.discontinuity.append((y0*x0)**(-3) / 3 + x0)\n",
    "        \n",
    "        self.discontinuity.sort()        \n",
    "        self.y = np.array([y0])\n",
    "        self.x = np.array([x0])\n",
    "        \n",
    "        for i in range(1, n + 1): \n",
    "            \n",
    "            self.x = np.append(self.x, self.x[-1] + h)\n",
    "            near_discont = False\n",
    "            for i in self.discontinuity:\n",
    "                if (abs(self.x[-1] - i) <= h*2):\n",
    "                    near_discont = True\n",
    "            if (near_discont):\n",
    "                self.y = np.append(self.y, None)\n",
    "            else:\n",
    "                self.y = np.append(self.y, self.f_original(self.x[-1]))\n",
    "                \n",
    "        \n",
    "    def get_x(self):\n",
    "        return self.x\n",
    "    \n",
    "    def print_solution(self):\n",
    "        str1 = \"The \\space most \\space general \\space solution \\space is: \\space y(x)=0 \\space and \\space y(x)=\\\\frac{1}{\\sqrt[3]{Cx^3-3x^4}}, C \\in \\\\ \\mathbb {R}.\"\\\n",
    "             \"\\space Points \\space of \\space discontinuity \\space are \\space \\\\frac{1}{3x_0y_0} + x_0 \\space \"\\\n",
    "             \"if \\space it's \\space not \\space equal \\space 0 \\space and \\space 0\"\n",
    "        if (self.constant):\n",
    "            str2 = \"The \\space most \\space general \\space solution \\space is: \\space y(x)=0. \\space Point \\space of \\space discontinuity \\space is \\space 0. \"\n",
    "            display(Math(str1))\n",
    "            display(Math(str2))\n",
    "            return \n",
    "        \n",
    "        if (self.discontinuity[1] != self.discontinuity[0]):\n",
    "            str2 = \"The \\space most \\space general \\space solution \\space is: \\space y(x)=\\\\frac{1}{\\sqrt[3]{\" + str(round(self.c, 2)) + \\\n",
    "            \"x^3-3x^4}}\\space Points \\space of \\space discontinuity \\space are \\space\" + str(round(self.discontinuity[0], 2)) + \\\n",
    "            \"\\space and \\space\" + str(round(self.discontinuity[1], 2))\n",
    "        else:\n",
    "            str2 = \"The \\space most \\space general \\space solution \\space is: \\space y(x)=\\\\frac{1}{\\sqrt[3]{\" + str(c1) + \"\\cdot x^3-3x^4}}\"\\\n",
    "                   \"\\space Points \\space of \\space discontinuity \\space is \\space 0\"\n",
    "            \n",
    "        display(Math(str1))\n",
    "        display(Math(str2))\n",
    "        \n",
    "    def draw(self):\n",
    "        plot.plot(self.x, self.y, label='Exact')\n",
    "        plot.legend(loc='lower left')"
   ]
  },
  {
   "cell_type": "code",
   "execution_count": 3,
   "metadata": {},
   "outputs": [],
   "source": [
    "class Numerical_solution:\n",
    "    \n",
    "    def f(self, x, y):\n",
    "        return x**3*y**4-y/x\n",
    "\n",
    "    def num_method(self):\n",
    "        pass\n",
    "    \n",
    "    def calculate(self, y_original, n, h):\n",
    "        for i in range(1, n + 1):\n",
    "\n",
    "            if (y_original[i] != None):\n",
    "                if (y_original[i-1] == None):\n",
    "                    self.y = np.append(self.y, y_original[i])\n",
    "                    \n",
    "                else:\n",
    "                    self.y = np.append(self.y, self.num_method(self.x[i-1], self.y[-1], h))  \n",
    "            else:\n",
    "                self.y = np.append(self.y, None)\n",
    "\n",
    "    \n",
    "    def __init__(self, exact, n, h):\n",
    "        self.x = exact.x\n",
    "        self.y = np.array([exact.y[0]])\n",
    "        self.calculate(exact.y, n, h)\n",
    "        \n",
    "    def draw(self):\n",
    "        plot.plot(self.x, self.y, label=self.__class__.__name__)\n",
    "        plot.legend(loc='lower left')\n",
    "        "
   ]
  },
  {
   "cell_type": "code",
   "execution_count": 4,
   "metadata": {},
   "outputs": [],
   "source": [
    "class Euler(Numerical_solution):\n",
    "    def num_method(self, x, y, h):\n",
    "        return y+h*self.f(x,y)"
   ]
  },
  {
   "cell_type": "code",
   "execution_count": 5,
   "metadata": {},
   "outputs": [],
   "source": [
    "class Euler_improved(Numerical_solution):\n",
    "    def num_method(self, x, y, h):\n",
    "        return y+h/2*(self.f(x,y)+self.f(x+h, y+h*self.f(x,y)))"
   ]
  },
  {
   "cell_type": "code",
   "execution_count": 6,
   "metadata": {},
   "outputs": [],
   "source": [
    "class Runge(Numerical_solution):\n",
    "    \n",
    "    def num_method(self, x, y, h):\n",
    "        k1 = self.f(x, y)\n",
    "        k2 = self.f(x + h/2, y + h/2 * k1)\n",
    "        k3 = self.f(x + h/2, y + h/2 * k2)\n",
    "        k4 = self.f(x + h, y + h * k3)\n",
    "        return y + h/6 * (k1 + 2*k2 +2*k3 + k4)"
   ]
  },
  {
   "cell_type": "code",
   "execution_count": 7,
   "metadata": {},
   "outputs": [],
   "source": [
    "class IVP:\n",
    "    \n",
    "    def find_exact(self):\n",
    "        self.exact = Exact_solution(self.x0, self.y0, self.h, self.n)\n",
    "        self.x = self.exact.get_x()\n",
    "    \n",
    "    def get_exact(self):\n",
    "        return self.exact\n",
    "    \n",
    "    def get_euler(self):\n",
    "        if (self.euler == None):\n",
    "            self.euler = Euler(self.exact, self.n, self.h)\n",
    "        return self.euler\n",
    "    \n",
    "    def get_improved_euler(self):\n",
    "        if (self.improved_euler == None):\n",
    "            self.improved_euler = Euler_improved(self.exact, self.n, self.h)\n",
    "        return self.improved_euler\n",
    "\n",
    "    def get_runge(self):\n",
    "        if (self.runge == None):\n",
    "            self.runge = Runge(self.exact, self.n, self.h)\n",
    "        return self.runge\n",
    "            \n",
    "    def __init__(self, x0, y0, xf, n):      \n",
    "        \n",
    "        if (x0 == 0):\n",
    "            raise Exception(\"Y isn't defined in x0 = 0\")\n",
    "        if (n < 0):\n",
    "            raise Exception(\"N should be positive\\n\")        \n",
    "        if (int(n) != n):\n",
    "            raise Exception(\"N should be an integer number\\n\")\n",
    "        if (x0 >= xf):\n",
    "            raise Exception(\"x0 slould be less than x_final\")\n",
    "\n",
    "        self.x0 = x0\n",
    "        self.y0 = y0\n",
    "        self.n = n\n",
    "        self.h = (xf - x0) / n\n",
    "        self.find_exact()\n",
    "        self.euler = None\n",
    "        self.improved_euler = None\n",
    "        self.runge = None"
   ]
  },
  {
   "cell_type": "code",
   "execution_count": 8,
   "metadata": {},
   "outputs": [],
   "source": [
    "class Error_of_solution:\n",
    "    \n",
    "    def __init__(self, solution, original):\n",
    "        self.x = solution.x\n",
    "        self.e = [0]\n",
    "        for i in range(1, len(self.x)):\n",
    "            if (solution.y[i] == None):\n",
    "                self.e.append(None)\n",
    "            else:\n",
    "                self.e.append(solution.y[i]-original.y[i])\n",
    "        self.label = solution.__class__.__name__\n",
    "        self.average_error = None\n",
    "        self.max_error = None\n",
    "            \n",
    "    def draw(self):\n",
    "        plot.plot(self.x, self.e, label=self.label+\" error\")\n",
    "        plot.legend(loc='upper left')\n",
    "        \n",
    "    def find_max(self):\n",
    "        self.max_error = 0\n",
    "        for i in self.e:\n",
    "            if (abs(i) > abs(self.max_error)):\n",
    "                self.max_error = abs(i)\n",
    "                \n",
    "    def get_max_error(self):\n",
    "        if (self.max_error == None):\n",
    "            self.find_max()\n",
    "        return self.max_error\n",
    "\n",
    "    def find_average(self):\n",
    "        n_array = np.array(self.e, dtype=np.float)\n",
    "        n_array = n_array[~np.isnan(n_array)]\n",
    "        self.average_error=np.mean(np.abs(n_array))\n",
    "        \n",
    "    def get_average_error(self):\n",
    "        if (self.average_error == None):\n",
    "            self.find_average()\n",
    "        return self.average_error"
   ]
  },
  {
   "cell_type": "markdown",
   "metadata": {},
   "source": [
    "**Все оч плохо, если попадает асимптота!!**"
   ]
  },
  {
   "cell_type": "code",
   "execution_count": 9,
   "metadata": {},
   "outputs": [],
   "source": [
    "n = 300\n",
    "x0 = 1\n",
    "y0 = 0.5\n",
    "xf = 5"
   ]
  },
  {
   "cell_type": "code",
   "execution_count": 10,
   "metadata": {
    "scrolled": true
   },
   "outputs": [],
   "source": [
    "ivp = IVP(x0, y0, xf, n)"
   ]
  },
  {
   "cell_type": "markdown",
   "metadata": {},
   "source": [
    "**Exact solution**"
   ]
  },
  {
   "cell_type": "code",
   "execution_count": 11,
   "metadata": {},
   "outputs": [
    {
     "data": {
      "text/latex": [
       "$$The \\space most \\space general \\space solution \\space is: \\space y(x)=0 \\space and \\space y(x)=\\frac{1}{\\sqrt[3]{Cx^3-3x^4}}, C \\in \\ \\mathbb {R}.\\space Points \\space of \\space discontinuity \\space are \\space \\frac{1}{3x_0y_0} + x_0 \\space if \\space it's \\space not \\space equal \\space 0 \\space and \\space 0$$"
      ],
      "text/plain": [
       "<IPython.core.display.Math object>"
      ]
     },
     "metadata": {},
     "output_type": "display_data"
    },
    {
     "data": {
      "text/latex": [
       "$$The \\space most \\space general \\space solution \\space is: \\space y(x)=\\frac{1}{\\sqrt[3]{11.0x^3-3x^4}}\\space Points \\space of \\space discontinuity \\space are \\space0\\space and \\space3.67$$"
      ],
      "text/plain": [
       "<IPython.core.display.Math object>"
      ]
     },
     "metadata": {},
     "output_type": "display_data"
    }
   ],
   "source": [
    "ivp.get_exact().print_solution()"
   ]
  },
  {
   "cell_type": "code",
   "execution_count": 12,
   "metadata": {
    "scrolled": false
   },
   "outputs": [
    {
     "data": {
      "image/png": "[encoded data removed]",
      "text/plain": [
       "<Figure size 432x288 with 1 Axes>"
      ]
     },
     "metadata": {
      "needs_background": "light"
     },
     "output_type": "display_data"
    }
   ],
   "source": [
    "ivp.get_exact().draw()"
   ]
  },
  {
   "cell_type": "markdown",
   "metadata": {},
   "source": [
    "**Euler method solution**"
   ]
  },
  {
   "cell_type": "code",
   "execution_count": 13,
   "metadata": {},
   "outputs": [
    {
     "data": {
      "image/png": "[encoded data removed]",
      "text/plain": [
       "<Figure size 432x288 with 1 Axes>"
      ]
     },
     "metadata": {
      "needs_background": "light"
     },
     "output_type": "display_data"
    }
   ],
   "source": [
    "ivp.get_euler().draw()"
   ]
  },
  {
   "cell_type": "markdown",
   "metadata": {},
   "source": [
    "**Error of euler method**"
   ]
  },
  {
   "cell_type": "code",
   "execution_count": 14,
   "metadata": {},
   "outputs": [
    {
     "data": {
      "image/png": "[encoded data removed]",
      "text/plain": [
       "<Figure size 432x288 with 1 Axes>"
      ]
     },
     "metadata": {
      "needs_background": "light"
     },
     "output_type": "display_data"
    }
   ],
   "source": [
    "Error_of_solution(ivp.get_euler(), ivp.get_exact()).draw()"
   ]
  },
  {
   "cell_type": "markdown",
   "metadata": {},
   "source": [
    "**Improved Euler method solution**"
   ]
  },
  {
   "cell_type": "code",
   "execution_count": 15,
   "metadata": {},
   "outputs": [
    {
     "data": {
      "image/png": "[encoded data removed]",
      "text/plain": [
       "<Figure size 432x288 with 1 Axes>"
      ]
     },
     "metadata": {
      "needs_background": "light"
     },
     "output_type": "display_data"
    }
   ],
   "source": [
    "ivp.get_improved_euler().draw()"
   ]
  },
  {
   "cell_type": "markdown",
   "metadata": {},
   "source": [
    "**Error of improved euler method**"
   ]
  },
  {
   "cell_type": "code",
   "execution_count": 16,
   "metadata": {},
   "outputs": [
    {
     "data": {
      "image/png": "[encoded data removed]",
      "text/plain": [
       "<Figure size 432x288 with 1 Axes>"
      ]
     },
     "metadata": {
      "needs_background": "light"
     },
     "output_type": "display_data"
    }
   ],
   "source": [
    "Error_of_solution(ivp.get_improved_euler(), ivp.get_exact()).draw()"
   ]
  },
  {
   "cell_type": "markdown",
   "metadata": {},
   "source": [
    "**Runge method solution**"
   ]
  },
  {
   "cell_type": "code",
   "execution_count": 17,
   "metadata": {},
   "outputs": [
    {
     "data": {
      "image/png": "[encoded data removed]",
      "text/plain": [
       "<Figure size 432x288 with 1 Axes>"
      ]
     },
     "metadata": {
      "needs_background": "light"
     },
     "output_type": "display_data"
    }
   ],
   "source": [
    "ivp.get_runge().draw()"
   ]
  },
  {
   "cell_type": "markdown",
   "metadata": {},
   "source": [
    "**Error of Runge-Kutta method**"
   ]
  },
  {
   "cell_type": "code",
   "execution_count": 18,
   "metadata": {},
   "outputs": [
    {
     "data": {
      "image/png": "[encoded data removed]",
      "text/plain": [
       "<Figure size 432x288 with 1 Axes>"
      ]
     },
     "metadata": {
      "needs_background": "light"
     },
     "output_type": "display_data"
    }
   ],
   "source": [
    "Error_of_solution(ivp.get_runge(), ivp.get_exact()).draw()"
   ]
  },
  {
   "cell_type": "code",
   "execution_count": 19,
   "metadata": {},
   "outputs": [],
   "source": [
    "import ipywidgets as ipw"
   ]
  },
  {
   "cell_type": "code",
   "execution_count": 35,
   "metadata": {},
   "outputs": [],
   "source": [
    "def show_solutions(x0, y0, xf, n, euler, i_euler, runge, exact):\n",
    "    ivp = IVP(x0, y0, xf, n)\n",
    "    plot.rcParams['figure.figsize'] = [20, 20]\n",
    "    plot.rcParams.update({'font.size': 20})\n",
    "    plot.xlabel(\"X\")\n",
    "    plot.ylabel(\"Y\")\n",
    "    if (exact):\n",
    "        ivp.get_exact().draw()\n",
    "    if (euler):\n",
    "        ivp.get_euler().draw()\n",
    "    if (i_euler):\n",
    "        ivp.get_improved_euler().draw()\n",
    "    if (runge):\n",
    "        ivp.get_runge().draw()\n",
    "    plot.show()\n",
    "    ivp.get_exact().print_solution()\n",
    "\n",
    "def show_errors(x0, y0, xf, n, euler, i_euler, runge):\n",
    "    ivp = IVP(x0, y0, xf, n)\n",
    "    plot.rcParams['figure.figsize'] = [20, 20]\n",
    "    plot.rcParams.update({'font.size': 20})\n",
    "    plot.xlabel(\"X\")\n",
    "    plot.ylabel(\"Local error\")\n",
    "    if (euler):\n",
    "        Error_of_solution(ivp.get_euler(), ivp.get_exact()).draw()\n",
    "    if (i_euler):\n",
    "        Error_of_solution(ivp.get_improved_euler(), ivp.get_exact()).draw()\n",
    "    if (runge):\n",
    "        Error_of_solution(ivp.get_runge(), ivp.get_exact()).draw()\n",
    "    \n",
    "def make_gui():\n",
    "    x0 = ipw.FloatSlider(value=1, min=-10, max=10, step=0.1, continuous_update=False)\n",
    "    y0 = ipw.FloatSlider(value=0.5, min=-10, max=10, step=0.1, continuous_update=False)\n",
    "    xf = ipw.FloatSlider(value=5, min=1, max=20, step=0.1, continuous_update=False)\n",
    "    n = ipw.IntSlider(value=100, min=5, max=1000, step=10, continuous_update=False)\n",
    "    exact = ipw.Checkbox(value=True, description='Exact', disabled=False)\n",
    "    euler = ipw.Checkbox(value=True, description='Euler', disabled=False)\n",
    "    i_euler = ipw.Checkbox(value=False, description='Improved euler', disabled=False)\n",
    "    runge = ipw.Checkbox(value=False, description='Runge', disabled=False)\n",
    "    return x0, y0, xf, n, euler, i_euler, runge, exact\n",
    "\n",
    "    "
   ]
  },
  {
   "cell_type": "code",
   "execution_count": 36,
   "metadata": {
    "scrolled": false
   },
   "outputs": [
    {
     "data": {
      "application/vnd.jupyter.widget-view+json": {
       "model_id": "304777f2688f465c92e526b25670768e",
       "version_major": 2,
       "version_minor": 0
      },
      "text/plain": [
       "interactive(children=(FloatSlider(value=1.0, continuous_update=False, description='x0', max=10.0, min=-10.0), …"
      ]
     },
     "metadata": {},
     "output_type": "display_data"
    }
   ],
   "source": [
    "try:\n",
    "    x0, y0, xf, n, euler, i_euler, runge, exact = make_gui()\n",
    "    ipw.interact(show_solutions, x0=x0, y0=y0, xf=xf, n=n, euler=euler, i_euler=i_euler, runge=runge, exact=exact)\n",
    "except Exception as e:\n",
    "    print (e)"
   ]
  },
  {
   "cell_type": "code",
   "execution_count": 32,
   "metadata": {},
   "outputs": [
    {
     "data": {
      "application/vnd.jupyter.widget-view+json": {
       "model_id": "40affa46dd2a4a4b9766f2864dadde14",
       "version_major": 2,
       "version_minor": 0
      },
      "text/plain": [
       "interactive(children=(FloatSlider(value=1.0, continuous_update=False, description='x0', max=10.0, min=-10.0), …"
      ]
     },
     "metadata": {},
     "output_type": "display_data"
    }
   ],
   "source": [
    "try:\n",
    "    ipw.interact(show_errors, x0=x0, y0=y0, xf=xf, n=n, euler=euler, i_euler=i_euler, runge=runge)\n",
    "except Exception as e:\n",
    "    print (e)"
   ]
  },
  {
   "cell_type": "code",
   "execution_count": 33,
   "metadata": {},
   "outputs": [],
   "source": [
    "def show_all_errors(x0, y0, xf, n_min, n_max, euler, i_euler, runge):\n",
    "    \n",
    "    plot.rcParams['figure.figsize'] = [20, 20]\n",
    "    plot.rcParams.update({'font.size': 20})\n",
    "    n = np.arange(n_min, n_max + 1, 1)\n",
    "    e_e = np.array([])\n",
    "    e_i = np.array([])\n",
    "    e_r = np.array([])\n",
    "\n",
    "    for i in n:\n",
    "        ivp = IVP(x0, y0, xf, i)\n",
    "        e_e = np.append(e_e, Error_of_solution(ivp.get_euler(), ivp.get_exact()).get_average_error())\n",
    "        e_i = np.append(e_i, Error_of_solution(ivp.get_improved_euler(), ivp.get_exact()).get_average_error())\n",
    "        e_r = np.append(e_r, Error_of_solution(ivp.get_runge(), ivp.get_exact()).get_average_error())\n",
    "    if (euler):\n",
    "        plot.plot(n, e_e)\n",
    "    if (i_euler):\n",
    "        plot.plot(n, e_i)\n",
    "    if (runge):\n",
    "        plot.plot(n, e_r)\n",
    "    plot.xlabel(\"Number of steps\")\n",
    "    plot.ylabel(\"Average value of absolute errors\")\n",
    "    plot.show()\n",
    "\n",
    "def errors():    \n",
    "    x0 = ipw.FloatSlider(value=1, min=-10, max=10, step=0.1, continuous_update=False)\n",
    "    y0 = ipw.FloatSlider(value=0.5, min=-10, max=10, step=0.1, continuous_update=False)\n",
    "    xf = ipw.FloatSlider(value=5, min=1, max=10, step=0.1, continuous_update=False)\n",
    "    n_min = ipw.IntSlider(value=50, min=5, max=1000, step=10, continuous_update=False)\n",
    "    n_max = ipw.IntSlider(value=400, min=5, max=1000, step=10, continuous_update=False)\n",
    "    euler = ipw.Checkbox(value=True, description='Euler', disabled=False)\n",
    "    i_euler = ipw.Checkbox(value=True, description='Improved euler', disabled=False)\n",
    "    runge = ipw.Checkbox(value=True, description='Runge', disabled=False)\n",
    "    return x0, y0, xf, n_min, n_max, euler, i_euler, runge\n",
    "    "
   ]
  },
  {
   "cell_type": "code",
   "execution_count": 34,
   "metadata": {},
   "outputs": [
    {
     "data": {
      "application/vnd.jupyter.widget-view+json": {
       "model_id": "3f927c6b82ed435794cdde45b37c04a8",
       "version_major": 2,
       "version_minor": 0
      },
      "text/plain": [
       "interactive(children=(FloatSlider(value=1.0, continuous_update=False, description='x0', max=10.0, min=-10.0), …"
      ]
     },
     "metadata": {},
     "output_type": "display_data"
    }
   ],
   "source": [
    "try:\n",
    "    x0, y0, xf, n_min, n_max, euler, i_euler, runge = errors()\n",
    "    ipw.interact(show_all_errors, x0=x0, y0=y0, xf=xf, n_min=n_min, n_max=n_max, euler=euler, i_euler=i_euler, runge=runge)\n",
    "except Exception as e:\n",
    "    print (e)"
   ]
  },
  {
   "cell_type": "code",
   "execution_count": null,
   "metadata": {},
   "outputs": [],
   "source": []
  }
 ],
 "metadata": {
  "kernelspec": {
   "display_name": "Python 3",
   "language": "python",
   "name": "python3"
  },
  "language_info": {
   "codemirror_mode": {
    "name": "ipython",
    "version": 3
   },
   "file_extension": ".py",
   "mimetype": "text/x-python",
   "name": "python",
   "nbconvert_exporter": "python",
   "pygments_lexer": "ipython3",
   "version": "3.7.0"
  }
 },
 "nbformat": 4,
 "nbformat_minor": 2
}
