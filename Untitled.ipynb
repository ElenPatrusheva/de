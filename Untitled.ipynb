{
 "cells": [
  {
   "cell_type": "code",
   "execution_count": 9,
   "metadata": {},
   "outputs": [],
   "source": [
    "import matplotlib.pyplot as plot\n",
    "from IPython.display import display, Math, Latex\n",
    "import plotly.plotly as py"
   ]
  },
  {
   "cell_type": "code",
   "execution_count": 10,
   "metadata": {},
   "outputs": [],
   "source": [
    "def f(x, y):\n",
    "    return x**3*y**4-y/x"
   ]
  },
  {
   "cell_type": "code",
   "execution_count": 37,
   "metadata": {},
   "outputs": [],
   "source": [
    "class Numerical_solution:\n",
    "\n",
    "    def f_method(self):\n",
    "        pass\n",
    "    \n",
    "    def calculate(self, x, h, y_original):\n",
    "        for i in range(1, self.n + 1): \n",
    "            if (y_original[i] != None):\n",
    "                if (y_original[i-1] == None):\n",
    "                    self.y.np.append(y_original[i])\n",
    "                else:\n",
    "                    self.y.np.append(self.num_method(x[i-1], self.y[-1], h))  \n",
    "            else:\n",
    "                self.y.np.append(None)\n",
    "    \n",
    "    def __init__(self, x, y_original):\n",
    "        \n",
    "        if (x0 == 0):\n",
    "            print (\"y isn't defined in x0 = 0\")\n",
    "            return 0\n",
    "        if (n < 0):\n",
    "            print (\"n should be positive\\n\")        \n",
    "            return 0\n",
    "        if (int(n) != n):\n",
    "            print(\"n should be an integer number\\n\")\n",
    "            return 0\n",
    "        \n",
    "        self.y = np.array([y0])\n",
    "        calculate(x, h, y_original)\n",
    "    "
   ]
  },
  {
   "cell_type": "code",
   "execution_count": 38,
   "metadata": {},
   "outputs": [],
   "source": [
    "class Euler(Numerical_solution):\n",
    "    def num_method(self, x, y, h):\n",
    "        return y+h*f(x,y)"
   ]
  },
  {
   "cell_type": "code",
   "execution_count": 39,
   "metadata": {},
   "outputs": [],
   "source": [
    "class Euler_Improved(Numerical_solution):\n",
    "    def num_method(self, x, y, h):\n",
    "        return y+h/2*(f(x,y)+f(x+h, y+h*f(x,y)))"
   ]
  },
  {
   "cell_type": "code",
   "execution_count": 40,
   "metadata": {},
   "outputs": [],
   "source": [
    "class Runge(Numerical_solution):\n",
    "    \n",
    "    def f_method(self, x, y, h):\n",
    "        k1 = f(x, y)\n",
    "        k2 = f(x + h/2, y + h/2 * k1)\n",
    "        k3 = f(x + h/2, y + h/2 * k2)\n",
    "        k4 = f(x + h, y + h * k3)\n",
    "        return y + h/6 * (k1 + 2*k2 +2*k3 + k4)"
   ]
  },
  {
   "cell_type": "code",
   "execution_count": 41,
   "metadata": {},
   "outputs": [],
   "source": [
    "class Original(Numerical_solution):\n",
    "    \n",
    "    def f_method(self, x, y, h):\n",
    "        return (self.c * x**3 - 3 * x**4) ** (-1 / 3)\n",
    "    \n",
    "    def __init__(self, x0, y0, n, xf):\n",
    "        super(Original, self).__init__(x0, y0, n, xf)\n",
    "        self.c = (y0*x0)**(-3) + 3*x0\n",
    "\n",
    "        \n",
    "        "
   ]
  },
  {
   "cell_type": "code",
   "execution_count": 42,
   "metadata": {},
   "outputs": [],
   "source": [
    "class Exact_solution:\n",
    "    \n",
    "    def f_original(self, x, y, h):\n",
    "        return (self.c * x**3 - 3 * x**4) ** (-1 / 3)\n",
    "    \n",
    "    def __init__(self, x0, y0, h):\n",
    "        \n",
    "        if (x0 == 0):\n",
    "            print (\"y isn't defined in x0 = 0\\n\")\n",
    "            return\n",
    "        \n",
    "        self.c = (y0*x0)**(-3) + 3 * x0\n",
    "        \n",
    "        self.y = np.array([y0])\n",
    "        self.x = np.array([y0])\n",
    "        for i in range(1, self.n + 1): \n",
    "            self.y.np.append(self.f_original(self.x[-1], self.y[-1], h))  \n",
    "            self.x.np.append(self.x[-1] + h)\n",
    "        \n",
    "        #shity shit\n",
    "        for i in range(1, self.n+1):\n",
    "            if (abs(self.y[i] - self.y[i-1])>5):\n",
    "                self.y[i] = None\n",
    "                \n",
    "        self.discontinuity = [0]\n",
    "        if (0 != (y0*x0)**(-3) / 3 + x0):\n",
    "            self.discontinuity.append((y0*x0)**(-3) / 3 + x0)\n",
    "        self.discontinuity.sort()\n",
    "        \n",
    "    def get_x(self):\n",
    "        return self.x\n",
    "    \n",
    "    def print(self):\n",
    "        str1 = \"The \\space most \\space general \\space solution \\space is: \\\\frac{1}{\\sqrt[3]{Cx^3-3x^4}}, C \\in \\\\ \\mathbb {R}.\"\\\n",
    "             \"\\space Points \\space of \\space discontinuity \\space are \\space \\\\frac{1}{3x_0y_0} + x_0 \\space \"\\\n",
    "             \"if \\space it's \\space not \\space equal \\space 0 \\space and \\space 0\"\n",
    "        \n",
    "        if (self.discontinuity[1] != self.discontinuity[0]):\n",
    "            str2 = \"The \\space most \\space general \\space solution \\space is: \\\\frac{1}{\\sqrt[3]{\" + str(self.c) + \\\n",
    "            \"x^3-3x^4}}\\space Points \\space of \\space discontinuity \\space are \\space\" + str(round(self.discontinuity[0], 2)) + \\\n",
    "            \"\\space and \\space\" + str(round(self.discontinuity[1], 2))\n",
    "        else:\n",
    "            str2 = \"The \\space most \\space general \\space solution \\space is: \\\\frac{1}{\\sqrt[3]{\" + str(c1) + \"x^3-3x^4}}\"\\\n",
    "                   \"\\space Points \\space of \\space discontinuity \\space is \\space 0\"\n",
    "            \n",
    "        display(Math(str1))\n",
    "        display(Math(str2))"
   ]
  },
  {
   "cell_type": "code",
   "execution_count": 43,
   "metadata": {},
   "outputs": [],
   "source": [
    "class Error_of_solution:\n",
    "    def __init_(solution, original):\n",
    "        self.x = solution.x\n",
    "        for i in range(len(self.x)):\n",
    "            self.e[i] = solution.y[i]-original.y[i]\n",
    "        \n",
    "        \n",
    "        "
   ]
  },
  {
   "cell_type": "code",
   "execution_count": 44,
   "metadata": {},
   "outputs": [],
   "source": [
    "class IVP:\n",
    "    \n",
    "    def f_original(self, x, y, h):\n",
    "        return (self.c * x**3 - 3 * x**4) ** (-1 / 3)\n",
    "    \n",
    "    def find_exact(self):\n",
    "        self.exact = Exact_solution(self.x0, self.y0, self.h)\n",
    "        self.x = Exact_solution.get_x()\n",
    "    \n",
    "    def get_euler(self):\n",
    "        if (self.euler == None):\n",
    "            self.euler = Euler(self.x, self.exact.y, h)\n",
    "        return self.euler\n",
    "    \n",
    "    def get_improved_euler(self):\n",
    "        if (self.improved_euler == None):\n",
    "            self.improved_euler = Improved_euler(self.x, self.exact.y, h)\n",
    "        return self.improved_euler\n",
    "\n",
    "    def get_runge(self):\n",
    "        if (self.runge == None):\n",
    "            self.runge = Runge(self.x, self.exact.y, h)\n",
    "        return self.runge\n",
    "            \n",
    "    def __init__(self, x0, y0, n, xf):        \n",
    "        if (x0 == 0):\n",
    "            print (\"y isn't defined in x0 = 0\")\n",
    "            return 0\n",
    "        if (n < 0):\n",
    "            print (\"n should be positive\\n\")        \n",
    "            return 0\n",
    "        if (int(n) != n):\n",
    "            print(\"n should be an integer number\\n\")\n",
    "            return 0\n",
    "\n",
    "        self.x0 = x0\n",
    "        self.y0 = y0\n",
    "        self.n = n\n",
    "        self.h = (xf - x0) / n\n",
    "        find_exact(self)\n",
    "    \n",
    "    \n",
    "        \n",
    "    "
   ]
  },
  {
   "cell_type": "markdown",
   "metadata": {},
   "source": [
    "**Все оч плохо, если попадает асимптота!!**"
   ]
  },
  {
   "cell_type": "code",
   "execution_count": 45,
   "metadata": {},
   "outputs": [],
   "source": [
    "n=300\n",
    "x0=1\n",
    "y0=0.5\n",
    "xf=3.658"
   ]
  },
  {
   "cell_type": "markdown",
   "metadata": {},
   "source": [
    "**Euler**"
   ]
  },
  {
   "cell_type": "code",
   "execution_count": 46,
   "metadata": {},
   "outputs": [
    {
     "data": {
      "image/png": "[encoded data removed]",
      "text/plain": [
       "<Figure size 432x288 with 1 Axes>"
      ]
     },
     "metadata": {
      "needs_background": "light"
     },
     "output_type": "display_data"
    }
   ],
   "source": [
    "a1 = Euler(x0, y0, n, xf)\n",
    "a1.calculate()\n",
    "a1.draw()"
   ]
  },
  {
   "cell_type": "markdown",
   "metadata": {},
   "source": [
    "**Improved**"
   ]
  },
  {
   "cell_type": "code",
   "execution_count": 29,
   "metadata": {},
   "outputs": [
    {
     "data": {
      "image/png": "[encoded data removed]",
      "text/plain": [
       "<Figure size 432x288 with 1 Axes>"
      ]
     },
     "metadata": {
      "needs_background": "light"
     },
     "output_type": "display_data"
    }
   ],
   "source": [
    "a2 = Euler_Improved(x0, y0, n, xf)\n",
    "a2.calculate()\n",
    "a2.draw()"
   ]
  },
  {
   "cell_type": "markdown",
   "metadata": {},
   "source": [
    "**Runge**"
   ]
  },
  {
   "cell_type": "code",
   "execution_count": 30,
   "metadata": {},
   "outputs": [
    {
     "data": {
      "image/png": "[encoded data removed]",
      "text/plain": [
       "<Figure size 432x288 with 1 Axes>"
      ]
     },
     "metadata": {
      "needs_background": "light"
     },
     "output_type": "display_data"
    }
   ],
   "source": [
    "a3= Runge(x0, y0, n, xf)\n",
    "a3.calculate()\n",
    "a3.draw()"
   ]
  },
  {
   "cell_type": "code",
   "execution_count": 31,
   "metadata": {},
   "outputs": [
    {
     "data": {
      "image/png": "[encoded data removed]",
      "text/plain": [
       "<Figure size 432x288 with 1 Axes>"
      ]
     },
     "metadata": {
      "needs_background": "light"
     },
     "output_type": "display_data"
    }
   ],
   "source": [
    "a4 = Original(x0, y0, n, xf)\n",
    "a4.calculate()\n",
    "a4.draw()"
   ]
  },
  {
   "cell_type": "code",
   "execution_count": 32,
   "metadata": {},
   "outputs": [
    {
     "data": {
      "text/plain": [
       "[<matplotlib.lines.Line2D at 0xcc66b0>,\n",
       " <matplotlib.lines.Line2D at 0xcc6770>,\n",
       " <matplotlib.lines.Line2D at 0xcc69f0>,\n",
       " <matplotlib.lines.Line2D at 0xcc6c50>]"
      ]
     },
     "execution_count": 32,
     "metadata": {},
     "output_type": "execute_result"
    },
    {
     "data": {
      "image/png": "[encoded data removed]",
      "text/plain": [
       "<Figure size 432x288 with 1 Axes>"
      ]
     },
     "metadata": {
      "needs_background": "light"
     },
     "output_type": "display_data"
    }
   ],
   "source": [
    "plot.plot(a1.x, a1.y, a2.x, a2.y, a3.x, a3.y, a4.x, a4.y,)"
   ]
  },
  {
   "cell_type": "code",
   "execution_count": 33,
   "metadata": {},
   "outputs": [
    {
     "data": {
      "text/latex": [
       "$$The \\space most \\space general \\space solution \\space is: \\frac{1}{\\sqrt[3]{Cx^3-3x^4}}, C \\in \\ \\mathbb {R}.\\space Points \\space of \\space discontinuity \\space are \\space \\frac{1}{3x_0y_0} + x_0 \\space if \\space it's \\space not \\space equal \\space 0 \\space and \\space 0$$"
      ],
      "text/plain": [
       "<IPython.core.display.Math object>"
      ]
     },
     "metadata": {},
     "output_type": "display_data"
    }
   ],
   "source": [
    "display(Math(\"The \\space most \\space general \\space solution \\space is: \\\\frac{1}{\\sqrt[3]{Cx^3-3x^4}}, C \\in \\\\ \\mathbb {R}.\"\\\n",
    "             \"\\space Points \\space of \\space discontinuity \\space are \\space \\\\frac{1}{3x_0y_0} + x_0 \\space \"\\\n",
    "             \"if \\space it's \\space not \\space equal \\space 0 \\space and \\space 0\"))"
   ]
  },
  {
   "cell_type": "code",
   "execution_count": 34,
   "metadata": {},
   "outputs": [
    {
     "data": {
      "text/latex": [
       "$$The \\space most \\space general \\space solution \\space is: \\frac{1}{\\sqrt[3]{Cx^3-3x^4}}, C \\in \\ \\mathbb {R}.\\space Points \\space of \\space discontinuity \\space are \\space \\frac{1}{3x_0y_0} + x_0 \\space if \\space it's \\space not \\space equal \\space 0 \\space and \\space 0$$"
      ],
      "text/plain": [
       "<IPython.core.display.Math object>"
      ]
     },
     "metadata": {},
     "output_type": "display_data"
    },
    {
     "data": {
      "text/latex": [
       "$$The \\space most \\space general \\space solution \\space is: \\frac{1}{\\sqrt[3]{11.0x^3-3x^4}}\\space Points \\space of \\space discontinuity \\space are \\space0\\space and \\space3.67$$"
      ],
      "text/plain": [
       "<IPython.core.display.Math object>"
      ]
     },
     "metadata": {},
     "output_type": "display_data"
    }
   ],
   "source": [
    "a5 = Exact_solution(x0, y0)\n",
    "a5.print()"
   ]
  },
  {
   "cell_type": "code",
   "execution_count": null,
   "metadata": {},
   "outputs": [],
   "source": []
  }
 ],
 "metadata": {
  "kernelspec": {
   "display_name": "Python 3",
   "language": "python",
   "name": "python3"
  },
  "language_info": {
   "codemirror_mode": {
    "name": "ipython",
    "version": 3
   },
   "file_extension": ".py",
   "mimetype": "text/x-python",
   "name": "python",
   "nbconvert_exporter": "python",
   "pygments_lexer": "ipython3",
   "version": "3.7.0"
  }
 },
 "nbformat": 4,
 "nbformat_minor": 2
}
